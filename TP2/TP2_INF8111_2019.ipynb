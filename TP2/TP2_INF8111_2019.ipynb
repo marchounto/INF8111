{
 "cells": [
  {
   "cell_type": "markdown",
   "metadata": {},
   "source": [
    "# INF8111 - Fouille de données\n",
    "\n",
    "\n",
    "## TP2 Automne 2019 - Extraction et analyse d'une base de données de tweets\n",
    "\n",
    "##### Membres de l'équipe:\n",
    "\n",
    "    - Nom (Matricule) 1\n",
    "    - Nom (Matricule) 2\n",
    "    - Nom (Matricule) 3"
   ]
  },
  {
   "cell_type": "markdown",
   "metadata": {},
   "source": [
    "## Présentation du problème\n",
    "\n",
    "En 2017, Twitter compte 313 millions d’utilisateurs actifs par mois avec 500 millions de tweets envoyés par jour. Cette information est rendue disponible à destination de la recherche et du développement web grâce à une API publique qui permet de collecter les informations que l'on souhaite.\n",
    "\n",
    "Néanmoins, la politique de développement de Twitter limite le partage de ces données. En effet, le partage du contenu des tweets dans une base de données n'est pas autorisé, seuls les identifiants des tweets le sont. \n",
    "Pour partager publiquement une base de données de tweets que l'on a créée, il faut que cette base de données ne soit consituée que des identifiants de tweets, et c'est ce que l'on retrouve dans la plupart des jeux de données publiques.\n",
    "\n",
    "Il est donc nécessaire pour exploiter ces données \"d'hydrater\" les tweets en question, c'est-à-dire extraire l'ensemble des informations à partir de l'ID, ce qui demande d'utiliser l'API de Twitter.\n",
    "\n",
    "Nous allons ici utiliser des bases de données publiques créées par GWU (George Washington University), qui ont l'avantage d'être très récentes : \n",
    "https://dataverse.harvard.edu/dataverse/gwu-libraries\n",
    "\n",
    "Chaque base de données de GWU couvre un sujet précis (élection américaine de 2016, jeux olympiques, etc.), et les données ont été recueillis en appliquant des requêtes qui filtraient les résultats pour n'avoir que des tweets pertinents. Un fichier README est fourni avec chaque base de données pour donner les détails de création du *dataset*. \n",
    "\n",
    "\n",
    "**Les objectifs de ce TP sont donc les suivants :**\n",
    "\n",
    " 1. Construire un *crawler* qui collecte les informations d'un tweet à partir de son ID, avec le jeu de données de son choix et les informations pertinentes pour le sujet choisi\n",
    " 2. A partir de ces données de Twitter collectés, application de méthodes en Machine Learning (ML)/Natural Language Processing (NLP) pour fournir une analyse pertinente. \n",
    "\n",
    "\n",
    "Twitter autorisant le partage **local** des données (par exemple au sein d'un groupe de recherche), une base de données sera fournie si vous ne parvenez pas à créer la vôtre."
   ]
  },
  {
   "cell_type": "markdown",
   "metadata": {},
   "source": [
    "# I/ Hydratation de tweets à l'aide de l'API Twitter (4 Pts)"
   ]
  },
  {
   "cell_type": "markdown",
   "metadata": {},
   "source": [
    "### 1. Obtenir l'authorisation de Twitter pour l'utilisation de l'API"
   ]
  },
  {
   "cell_type": "markdown",
   "metadata": {},
   "source": [
    "Pour l'authentification, Twitter utilise OAuth : https://developer.twitter.com/en/docs/basics/authentication/overview/oauth\n",
    "Vous aurez ici besoin en particulier de OAuth2, car vous n'allez pas interagir avec des utilisateurs sur Twitter (simplement collectés des données).\n",
    "\n",
    "##### 1.1. Obtention d'un compte Twitter développeur\n",
    "\n",
    " La première étape nécessaire pour enregistrer votre application et de créer un compte Twitter développeur. Pour ce faire :\n",
    "\n",
    " - Créez un compte Twitter classique si vous n'en avez pas déjà un.\n",
    " \n",
    " - Sur le site, https://developer.twitter.com, cliquez sur *apply* pour obtenir un compte développeur. \n",
    " \n",
    " - Remplissez tous les champs nécessaires. Twitter demande beaucoup de détails sur l'utilisation que vous allez faire de ce compte, il est donc important d'expliquer la démarche en détail : il faut souligner le fait que le projet est **académique** (aucune intention commerciale, aucune publication des données collectés, etc.), expliquer les objectifs et l'apprentissage de ce TP (prise en main de l'API Twitter, l'application concrète de méthodes de Data Mining, etc.), mais aussi expliquer en détail ce que vous allez faire des données (en reprenant des consignes du sujet), les méthodes que vous allez appliquer (citez des méthodes vues en cours ou au précédent TP), le rendu fourni (insistez sur le fait que rien ne sera publique), etc. Pensez notamment à indiquer le nom du cours et le sigle du cours, le nom de l'établissement, mon nom (Théo Moins), etc. Cochez que vous n'utiliserez pas la fonctionnalité de Retweet, et que l'aggregation et l'affichage de tweets ne sera fait que dans un cadre pédagogique (non publique, et sous la forme d'un projet de recherche). Si jamais vous n'êtes pas assez précis, Twitter peut vous renvoyer un courriel pour vous demander des précisions. \n",
    "\n",
    "##### 1.2. Obtention d'un jeton d'accès\n",
    "\n",
    " - Lorsque Twitter aura validé votre demande de compte développeur, allez sur https://developer.twitter.com/en/apps pour créer une application (cliquer sur *create an app*)\n",
    "\n",
    "- Ici encore, des informations sont à fournir ici. Certaines, comme le nom ou le site internet, ne sont pas très importante, vous pouvez mettre un site internet factice si vous le souhaitez.\n",
    "\n",
    "- A la fin de ce processus, vous pouvez enfin obtenir les clés et les jetons pour utiliser l'API: allez sur la page de l'application pour créer les jetons. Vous devez récupérer une paire de clés et une paire de jetons pour passer à la suite.\n",
    "\n"
   ]
  },
  {
   "cell_type": "code",
   "execution_count": 6,
   "metadata": {},
   "outputs": [],
   "source": [
    "CONSUMER_KEY = \"kf7mH5fEV85yM4WA8S9bKpv6X\"\n",
    "CONSUMER_SECRET = \"5yp9izHcu9OVngPHVeIPKsD68zmm6XLtkUDlSmI4cAj6IxfLt0\"\n",
    "\n",
    "oauth_token = \"497724098-QLyUwte0NAaaqw0onUsUWkSlfTRWBisaj1SS7bCk\"\n",
    "oauth_secret = \"WB4iamJ6kSZ8lyCeFob6pXT9hBBefk0sjgC0hGDRuhP9M\""
   ]
  },
  {
   "cell_type": "markdown",
   "metadata": {},
   "source": [
    "###  2. Premiers pas avec Twython\n",
    "\n",
    "##### 2.1 Installation et import de la librairie\n"
   ]
  },
  {
   "cell_type": "markdown",
   "metadata": {},
   "source": [
    "Plusieurs librairies Python existent pour manipuler l'API Twitter. Aussi appelé *wrappers*, ce sont un ensemble de fonctions python qui appelle des fonctions de l'API. Parmi elles, nous utiliserons Twython, librairie répendue et activement maintenue.\n",
    "\n",
    "Documentation de Twython : https://twython.readthedocs.io/en/latest/api.html "
   ]
  },
  {
   "cell_type": "code",
   "execution_count": 7,
   "metadata": {},
   "outputs": [],
   "source": [
    "import csv\n",
    "import time\n",
    "import sys\n",
    "\n",
    "# try:\n",
    "from twython import Twython, TwythonError, TwythonRateLimitError\n",
    "# except ImportError:\n",
    "#     !pip install --user twython"
   ]
  },
  {
   "cell_type": "markdown",
   "metadata": {},
   "source": [
    "##### 2.2 Création d'une application et premiers tests:"
   ]
  },
  {
   "cell_type": "code",
   "execution_count": 8,
   "metadata": {},
   "outputs": [],
   "source": [
    "twitter = Twython(CONSUMER_KEY, CONSUMER_SECRET, oauth_token, oauth_secret)"
   ]
  },
  {
   "cell_type": "markdown",
   "metadata": {},
   "source": [
    "Voici un test avec une recherche très simple pour vous assurer que la requête fonctionne.\n",
    "\n",
    "La fonction search renvoie une recherche (non exhaustive) de tweets, et l'option \"*popular*\" permet de retourner les résultats les plus populaires de la réponse. (documentation ici: https://developer.twitter.com/en/docs/tweets/search/api-reference/get-search-tweets)"
   ]
  },
  {
   "cell_type": "code",
   "execution_count": 9,
   "metadata": {},
   "outputs": [],
   "source": [
    "basic_search = twitter.search(q='python', result_type='popular', tweet_mode = 'extended')"
   ]
  },
  {
   "cell_type": "markdown",
   "metadata": {},
   "source": [
    "La fonction `search` renvoie un dictionnaire contenant la liste de tweets de la requête, et les métadonnées.\n",
    "\n",
    "Voici un exemple d'un résultat d'une recherche, observez ainsi toutes les données/métadonnées que contient un tweet et que vous pouvez extraire par la suite:"
   ]
  },
  {
   "cell_type": "code",
   "execution_count": 10,
   "metadata": {},
   "outputs": [
    {
     "data": {
      "text/plain": [
       "{'created_at': 'Sat Nov 09 16:00:00 +0000 2019',\n",
       " 'id': 1193196549632856064,\n",
       " 'id_str': '1193196549632856064',\n",
       " 'full_text': \"#OnThisDay 1979: John Cleese, Michael Palin, Malcolm Muggeridge and the Bishop of Southwark memorably discussed Monty Python's Life of Brian. https://t.co/OMlNEoeAhT\",\n",
       " 'truncated': False,\n",
       " 'display_text_range': [0, 141],\n",
       " 'entities': {'hashtags': [{'text': 'OnThisDay', 'indices': [0, 10]}],\n",
       "  'symbols': [],\n",
       "  'user_mentions': [],\n",
       "  'urls': [],\n",
       "  'media': [{'id': 1191755829923459072,\n",
       "    'id_str': '1191755829923459072',\n",
       "    'indices': [142, 165],\n",
       "    'media_url': 'http://pbs.twimg.com/media/EIoAwneW4AAzj-y.jpg',\n",
       "    'media_url_https': 'https://pbs.twimg.com/media/EIoAwneW4AAzj-y.jpg',\n",
       "    'url': 'https://t.co/OMlNEoeAhT',\n",
       "    'display_url': 'pic.twitter.com/OMlNEoeAhT',\n",
       "    'expanded_url': 'https://twitter.com/BBCArchive/status/1193196549632856064/video/1',\n",
       "    'type': 'photo',\n",
       "    'sizes': {'medium': {'w': 640, 'h': 480, 'resize': 'fit'},\n",
       "     'thumb': {'w': 150, 'h': 150, 'resize': 'crop'},\n",
       "     'small': {'w': 640, 'h': 480, 'resize': 'fit'},\n",
       "     'large': {'w': 640, 'h': 480, 'resize': 'fit'}}}]},\n",
       " 'extended_entities': {'media': [{'id': 1191755829923459072,\n",
       "    'id_str': '1191755829923459072',\n",
       "    'indices': [142, 165],\n",
       "    'media_url': 'http://pbs.twimg.com/media/EIoAwneW4AAzj-y.jpg',\n",
       "    'media_url_https': 'https://pbs.twimg.com/media/EIoAwneW4AAzj-y.jpg',\n",
       "    'url': 'https://t.co/OMlNEoeAhT',\n",
       "    'display_url': 'pic.twitter.com/OMlNEoeAhT',\n",
       "    'expanded_url': 'https://twitter.com/BBCArchive/status/1193196549632856064/video/1',\n",
       "    'type': 'video',\n",
       "    'sizes': {'medium': {'w': 640, 'h': 480, 'resize': 'fit'},\n",
       "     'thumb': {'w': 150, 'h': 150, 'resize': 'crop'},\n",
       "     'small': {'w': 640, 'h': 480, 'resize': 'fit'},\n",
       "     'large': {'w': 640, 'h': 480, 'resize': 'fit'}},\n",
       "    'video_info': {'aspect_ratio': [4, 3],\n",
       "     'duration_millis': 383680,\n",
       "     'variants': [{'bitrate': 2176000,\n",
       "       'content_type': 'video/mp4',\n",
       "       'url': 'https://video.twimg.com/amplify_video/1191755829923459072/vid/640x480/x1qY9ftf5cy1oR-e.mp4?tag=13'},\n",
       "      {'bitrate': 832000,\n",
       "       'content_type': 'video/mp4',\n",
       "       'url': 'https://video.twimg.com/amplify_video/1191755829923459072/vid/480x360/WG3f4tGq5Gsxr7vq.mp4?tag=13'},\n",
       "      {'content_type': 'application/x-mpegURL',\n",
       "       'url': 'https://video.twimg.com/amplify_video/1191755829923459072/pl/VQTJrO-nOpAPGyqk.m3u8?tag=13'},\n",
       "      {'bitrate': 288000,\n",
       "       'content_type': 'video/mp4',\n",
       "       'url': 'https://video.twimg.com/amplify_video/1191755829923459072/vid/360x270/3u40tExLouNLSKrE.mp4?tag=13'}]},\n",
       "    'additional_media_info': {'title': '\"It will have absolutely no influence in the long run.\"',\n",
       "     'description': 'This clip is from Friday Night...Saturday Morning.',\n",
       "     'embeddable': True,\n",
       "     'monetizable': False}}]},\n",
       " 'metadata': {'result_type': 'popular', 'iso_language_code': 'en'},\n",
       " 'source': '<a href=\"https://studio.twitter.com\" rel=\"nofollow\">Twitter Media Studio</a>',\n",
       " 'in_reply_to_status_id': None,\n",
       " 'in_reply_to_status_id_str': None,\n",
       " 'in_reply_to_user_id': None,\n",
       " 'in_reply_to_user_id_str': None,\n",
       " 'in_reply_to_screen_name': None,\n",
       " 'user': {'id': 51023770,\n",
       "  'id_str': '51023770',\n",
       "  'name': 'BBC Archive',\n",
       "  'screen_name': 'BBCArchive',\n",
       "  'location': 'London',\n",
       "  'description': 'Official Twitter presence of the @BBC Archive. Unless otherwise stated images are ©BBC.',\n",
       "  'url': 'https://t.co/ZEVADTCcC6',\n",
       "  'entities': {'url': {'urls': [{'url': 'https://t.co/ZEVADTCcC6',\n",
       "      'expanded_url': 'https://www.bbc.co.uk/archive',\n",
       "      'display_url': 'bbc.co.uk/archive',\n",
       "      'indices': [0, 23]}]},\n",
       "   'description': {'urls': []}},\n",
       "  'protected': False,\n",
       "  'followers_count': 161554,\n",
       "  'friends_count': 7278,\n",
       "  'listed_count': 2329,\n",
       "  'created_at': 'Fri Jun 26 11:40:26 +0000 2009',\n",
       "  'favourites_count': 2475,\n",
       "  'utc_offset': None,\n",
       "  'time_zone': None,\n",
       "  'geo_enabled': False,\n",
       "  'verified': True,\n",
       "  'statuses_count': 12844,\n",
       "  'lang': None,\n",
       "  'contributors_enabled': False,\n",
       "  'is_translator': False,\n",
       "  'is_translation_enabled': False,\n",
       "  'profile_background_color': '9AE4E8',\n",
       "  'profile_background_image_url': 'http://abs.twimg.com/images/themes/theme1/bg.png',\n",
       "  'profile_background_image_url_https': 'https://abs.twimg.com/images/themes/theme1/bg.png',\n",
       "  'profile_background_tile': True,\n",
       "  'profile_image_url': 'http://pbs.twimg.com/profile_images/1171341855541342210/632qEenS_normal.png',\n",
       "  'profile_image_url_https': 'https://pbs.twimg.com/profile_images/1171341855541342210/632qEenS_normal.png',\n",
       "  'profile_banner_url': 'https://pbs.twimg.com/profile_banners/51023770/1572538952',\n",
       "  'profile_link_color': '0084B4',\n",
       "  'profile_sidebar_border_color': 'BDDCAD',\n",
       "  'profile_sidebar_fill_color': 'DDFFCC',\n",
       "  'profile_text_color': '333333',\n",
       "  'profile_use_background_image': True,\n",
       "  'has_extended_profile': False,\n",
       "  'default_profile': False,\n",
       "  'default_profile_image': False,\n",
       "  'following': False,\n",
       "  'follow_request_sent': False,\n",
       "  'notifications': False,\n",
       "  'translator_type': 'none'},\n",
       " 'geo': None,\n",
       " 'coordinates': None,\n",
       " 'place': None,\n",
       " 'contributors': None,\n",
       " 'is_quote_status': False,\n",
       " 'retweet_count': 252,\n",
       " 'favorite_count': 673,\n",
       " 'favorited': False,\n",
       " 'retweeted': False,\n",
       " 'possibly_sensitive': False,\n",
       " 'lang': 'en'}"
      ]
     },
     "execution_count": 10,
     "metadata": {},
     "output_type": "execute_result"
    }
   ],
   "source": [
    "basic_search['statuses'][0]"
   ]
  },
  {
   "cell_type": "markdown",
   "metadata": {},
   "source": [
    "Il est également possible avec Twython de récupérer les informations d'un tweet à partir de son ID. \n",
    "\n",
    "#### Question 1. Afficher la date, le nom d'utilisateur et le contenu du tweet ayant l'ID : 1157345692517634049 (0.5 Pts)\n",
    "\n",
    "*Indice : vous pourrez utiliser avec la fonction de twython `show_status`*"
   ]
  },
  {
   "cell_type": "code",
   "execution_count": 11,
   "metadata": {},
   "outputs": [
    {
     "name": "stdout",
     "output_type": "stream",
     "text": [
      "{'created_at': 'Tue Nov 08 11:34:06 +0000 2016', 'id': 795952534565298177, 'id_str': '795952534565298177', 'text': 'todays the day oh #ElectionDay', 'truncated': False, 'entities': {'hashtags': [{'text': 'ElectionDay', 'indices': [18, 30]}], 'symbols': [], 'user_mentions': [], 'urls': []}, 'source': '<a href=\"http://twitter.com/download/iphone\" rel=\"nofollow\">Twitter for iPhone</a>', 'in_reply_to_status_id': None, 'in_reply_to_status_id_str': None, 'in_reply_to_user_id': None, 'in_reply_to_user_id_str': None, 'in_reply_to_screen_name': None, 'user': {'id': 3000336986, 'id_str': '3000336986', 'name': 'eva', 'screen_name': 'goodheartedjc', 'location': '', 'description': 'young love, west coast', 'url': None, 'entities': {'description': {'urls': []}}, 'protected': False, 'followers_count': 3045, 'friends_count': 98, 'listed_count': 137, 'created_at': 'Thu Jan 29 02:36:14 +0000 2015', 'favourites_count': 29592, 'utc_offset': None, 'time_zone': None, 'geo_enabled': True, 'verified': False, 'statuses_count': 33720, 'lang': None, 'contributors_enabled': False, 'is_translator': False, 'is_translation_enabled': False, 'profile_background_color': 'C0DEED', 'profile_background_image_url': 'http://abs.twimg.com/images/themes/theme1/bg.png', 'profile_background_image_url_https': 'https://abs.twimg.com/images/themes/theme1/bg.png', 'profile_background_tile': False, 'profile_image_url': 'http://pbs.twimg.com/profile_images/1109373682047205376/ouxi8SvQ_normal.jpg', 'profile_image_url_https': 'https://pbs.twimg.com/profile_images/1109373682047205376/ouxi8SvQ_normal.jpg', 'profile_banner_url': 'https://pbs.twimg.com/profile_banners/3000336986/1536979272', 'profile_link_color': '1DA1F2', 'profile_sidebar_border_color': 'C0DEED', 'profile_sidebar_fill_color': 'DDEEF6', 'profile_text_color': '333333', 'profile_use_background_image': True, 'has_extended_profile': False, 'default_profile': True, 'default_profile_image': False, 'can_media_tag': False, 'followed_by': False, 'following': False, 'follow_request_sent': False, 'notifications': False, 'translator_type': 'none'}, 'geo': None, 'coordinates': None, 'place': None, 'contributors': None, 'is_quote_status': False, 'retweet_count': 0, 'favorite_count': 1, 'favorited': False, 'retweeted': False, 'lang': 'en'}\n"
     ]
    }
   ],
   "source": [
    "test_id = \"795952534565298177\"\n",
    "MyTweet = twitter.show_status(id=test_id)\n",
    "print(MyTweet)"
   ]
  },
  {
   "cell_type": "markdown",
   "metadata": {},
   "source": [
    "**Attention** : Twitter a une limitation de requête par fenêtre de 15 minutes, qui est donc à prendre en compte dans la base de données : https://developer.twitter.com/en/docs/basics/rate-limiting.html"
   ]
  },
  {
   "cell_type": "markdown",
   "metadata": {},
   "source": [
    "### 3. Hydratation d'une base de donnée de tweets\n",
    "\n",
    "Les choses sérieuses commencent ! \n",
    "\n",
    "On souhaite désormais construire une fonction `hydrate_database` qui, à partir d'un fichier texte contenant une liste d'ID de tweets, créer un fichier csv contenant les informations que l'on souhaite extraire. \n",
    "\n",
    "Due à la limitation de requête, la fonction `show_status` vue plus haut s'avère peu efficace pour cette tâche : à raison de 900 requêtes pour 15 minutes, il sera beaucoup trop long de construire une base de données un tant soit peu conséquente. La fonction `lookup_status` (voir documentation) sera donc plus adaptée. Elle permettra d'hydrater 100 tweets par requête, ce qui, a raison d'une limite de 900 requêtes pour 15 minutes, rends la construction de la base de données plus réaliste. Il faudra tout de même gérer l'erreur générer par la limitation, si l'on souhaite avoir plus de 90000 tweets ou si l'on appelle plusieurs fois la fonction en moins de 15 minutes.\n",
    "\n",
    "#### Question 2. Implémenter la fonction `hydrate_database` (3.5 Pts)\n",
    "\n",
    "*Attention : Il faut également gérer le cas où la feature demandée n'est pas une clé du dictionnaire mais une \"sous-clé\", comme c'est le cas pour le nom d'utilisateur par exemple (accessible dans la feature *user*, qui lui même est un dictionnaire). Un moyen simple pour pallier à ce problème consiste à considérer la feature comme une liste, qui contiendrait la clé et les sous-clés si il y a lieu (voir exemple plus bas)\n",
    "\n",
    "*Indice : La fonction `sleep` du module time permet de patienter le temps nécessaire*"
   ]
  },
  {
   "cell_type": "code",
   "execution_count": 50,
   "metadata": {
    "scrolled": true
   },
   "outputs": [],
   "source": [
    "def hydrate_database(filename, database_name, \n",
    "                     features, nb_requests, \n",
    "                     tweet_hydratation_limit=100):\n",
    "    \"\"\"\n",
    "    Create a csv file that contains features of tweets from an file that contains ID of tweets.\n",
    "    \n",
    "    filename: Name of the file that contains ids\n",
    "    database_name: name of the file that will be created\n",
    "    features: List of features\n",
    "    nb_requests: number of time the function lookup_status will be called\n",
    "    tweet_hydratation_limit:\n",
    "    \"\"\"\n",
    "    from itertools import islice\n",
    "    from time import sleep\n",
    "    import random\n",
    "    \n",
    "    with open(filename) as f:\n",
    "        ids = [line.rstrip('\\n') for line in f]\n",
    "        \n",
    "    ids_to_hydrate = random.choices(ids, k=10000)\n",
    "\n",
    "    label = 'republican' if 'republican' in filename else 'democrat'\n",
    "\n",
    "    with open(database_name, mode = 'a+', newline='', encoding=\"utf-8\") as csvfile:\n",
    "        try: # If you don't reach the limit of requests\n",
    "            n = 0\n",
    "            while n < nb_requests :\n",
    "                lookup_ids = [x.strip() for x in ids_to_hydrate[n*100: (n+1)*100:]]\n",
    "                lookupstatus = twitter.lookup_status(id=lookup_ids, tweet_mode = 'extended')\n",
    "                for tweet in lookupstatus:\n",
    "                    t = tweet['full_text'].replace(',', '').replace(\"\\n\", '').replace(\"\\r\", '')\n",
    "                    csvfile.write(t + ',' + tweet['user']['screen_name'] + ',' + label)\n",
    "                    csvfile.write('\\n')\n",
    "                n += 1\n",
    "        except TwythonError as e:\n",
    "            if isinstance(e, TwythonRateLimitError):\n",
    "                retry_after = int(e.retry_after)\n",
    "    f.close                                \n",
    "    csvfile.close()\n",
    "    \n",
    "def create_training_db(nb_requests):\n",
    "    filenames = ['democratic-candidate-timelines.txt',\n",
    "                 'republican-candidate-timelines.txt',\n",
    "                 'democratic-party-timelines.txt',\n",
    "                 'republican-party-timelines.txt']\n",
    "    \n",
    "    features = [['text'], ['user', 'screen_name']] \n",
    "    \n",
    "    for filename in filenames:\n",
    "        hydrate_database(filename, 'training_set.csv', features, nb_requests)\n",
    "        \n",
    "def create_validation_test_db(nb_requests):\n",
    "    import random\n",
    "\n",
    "    filenames = ['democratic-convention-filter.txt',\n",
    "                 'election-day.txt',\n",
    "                 'first-debate.txt',\n",
    "                 'republican-convention-filter.txt',\n",
    "                 'second-debate.txt',\n",
    "                 'third-debate.txt',\n",
    "                 'vp-debate.txt']\n",
    "    \n",
    "    for filename in filenames:\n",
    "        with open(filename) as f:\n",
    "            ids = [line.rstrip('\\n') for line in f]\n",
    "        \n",
    "            ids_to_hydrate = random.choices(ids, k=3000)\n",
    "            \n",
    "            with open('test_set.csv', mode = 'a+', newline='', encoding=\"utf-8\") as test_file:\n",
    "                try: # If you don't reach the limit of requests\n",
    "                    n = 0\n",
    "                    while n < nb_requests :\n",
    "                        lookup_ids = [x.strip() for x in ids_to_hydrate[n*100: (n+2)*100: 2]]\n",
    "                        lookupstatus = twitter.lookup_status(id=lookup_ids, tweet_mode = 'extended')\n",
    "                        for tweet in lookupstatus:\n",
    "                            t = tweet['full_text'].replace(',', '').replace(\"\\n\", '').replace(\"\\r\", '')\n",
    "                            test_file.write(t + ',' + tweet['user']['screen_name'])\n",
    "                            test_file.write('\\n')\n",
    "                        n += 1\n",
    "                except TwythonError as e:\n",
    "                    if isinstance(e, TwythonRateLimitError):\n",
    "                        retry_after = int(e.retry_after)\n",
    "                        \n",
    "            with open('validation_set.csv', mode = 'a+', newline='', encoding=\"utf-8\") as validation_file:\n",
    "                    try: # If you don't reach the limit of requests\n",
    "                        n = 0\n",
    "                        while n < nb_requests :\n",
    "                            lookup_ids = [x.strip() for x in ids_to_hydrate[n*100 + 1: (n+2)*100: 2]]\n",
    "                            lookupstatus = twitter.lookup_status(id=lookup_ids, tweet_mode = 'extended')\n",
    "                            for tweet in lookupstatus:\n",
    "                                t = tweet['full_text'].replace(',', '').replace(\"\\n\", '').replace(\"\\r\", '')\n",
    "                                validation_file.write(t + ',' + tweet['user']['screen_name'])\n",
    "                                validation_file.write('\\n')\n",
    "                            n += 1\n",
    "                    except TwythonError as e:\n",
    "                        if isinstance(e, TwythonRateLimitError):\n",
    "                            retry_after = int(e.retry_after)\n",
    "#         test_file.close()\n",
    "#         validation_file.close()\n",
    "\n",
    "#     f.close                                \n",
    "    \n",
    "    "
   ]
  },
  {
   "cell_type": "markdown",
   "metadata": {},
   "source": [
    "Utilisez le fichier suivant en guise d'example : \n",
    "https://dataverse.harvard.edu/file.xhtml?persistentId=doi:10.7910/DVN/5QCCUU/QPYP8G&version=1.1\n",
    "\n",
    "On suppose qu'on ne souhaite garder que le texte (*text*) l'ID de l'utilisateur (*user/screen_name*)"
   ]
  },
  {
   "cell_type": "code",
   "execution_count": 51,
   "metadata": {},
   "outputs": [
    {
     "name": "stdout",
     "output_type": "stream",
     "text": [
      "longueur  3000\n",
      "longueur  3000\n",
      "longueur  3000\n",
      "longueur  3000\n",
      "longueur  3000\n",
      "longueur  3000\n",
      "longueur  3000\n"
     ]
    }
   ],
   "source": [
    "# create_training_db(100)\n",
    "create_validation_test_db(20)"
   ]
  },
  {
   "cell_type": "markdown",
   "metadata": {},
   "source": [
    "# II/ Analyse d'une base de données au choix (16 pts)\n",
    "\n",
    "Maintenant que vous êtes en mesure d'hydrater une base de données de tweets efficacement et en prenant en compte les limitations de Twitter, vous pouvez l'appliquer sur le *dataset* qui vous intéresse le plus.\n",
    "\n",
    "### 1. Instructions\n",
    "\n",
    "Dans cette partie, vous allez mener **entièrement** de vous-même un projet de *Data Science*, c'est à dire de la collecte des données jusqu'à l'interprétation des résultats. 3 sujets sont proposés, vous devez choisir celui qui vous intéresse le plus parmi :\n",
    " \n",
    " 1. Analyse de sentiments pour la prédiction des résultats de l'élection américaine. \n",
    "    \n",
    "    **Dataset :** \"2016 United States Presidential Election Tweet Ids\", https://doi.org/10.7910/DVN/PDI7IN  \n",
    "    \n",
    "    **Précision :** Ce sujet est assez similaire au TP1 (avec ici sentiment = parti politique), vous êtes donc libre de reprendre ce que vous aviez fait. Cependant, il faudrait aller un peu plus en profondeur ici, par exemple sur l'étape de la classification. De plus, vous avez ici une nouvelle problématique qui est que vos données ne sont pas labellisés (mais la construction des collections devrait vous permettre de labelliser vous-même).\n",
    " \n",
    " \n",
    " 2. Détection de discours d'incitation à la haine.\n",
    "    \n",
    "    **Dataset :** Modifier votre fonction d'hydratation en utilisant la fonction search pour n'avoir que des tweets récents.\n",
    " \n",
    "     **Précision :** Ce sujet pourrait également être abordé de la même manière que le TP1 : des étapes de preprocessing + de la classification. Néanmoins, dans ce cas, posséder des données avec des labels \"incitant à la haine\"/\"n'insite pas à la haine\" est beaucoup plus complexe, car beaucoup de bases de données étiquetés, lors de l'hydratation, se trouveront être quasi-vide, car les tweets auront été supprimés au moment où nous ferons notre requête (car Twitter veille aussi à la suppression de tweets haineux). C'est pourquoi vous êtes obligés de créer une base de données avec des tweets les plus récents possibles, avant qu'ils ne soient potentiellement supprimés. Pour désigner un tweet comme haineux, une méthode serait la détection de vocabulaire haineux, par exemple avec `hatebase.org`, qui propose des larges bases de données très complètes. Vous pouvez créer un compte sur le site pour avoir accès à l'API, et ensuite utiliser cette librairie pour Python : https://github.com/DanielJDufour/hatebase. En modifiant la requête pour n'avoir que des tweets contenant ce vocabulaire, et en le mêlant à de l'analyse de sentiment, vous pourrez obtenir des résultats à analyser. Vous pourriez aussi avoir une approche \"utilisateur\" pour rechercher des tweets haineux : lorsqu'un tweet est détecter comme haineux, inspecter l'ensemble des tweets de l'utilisateur et/ou de ses *followers*. En bref, beaucoup de possibilités, mais ce sujet est le plus complexe des trois. Je serai donc moins exigeant sur les résultats 'chiffrés', l'important ici étant plus l'analyse, et le fait d'avoir une approche cohérente (il est également très important de prendre le temps de réfléchir à une définition claire de \"haineux\").\n",
    "\n",
    "\n",
    " 3. Méthodes de clusterings appliqué au tweet sur l'actualité, et analyse des résultats. \n",
    "    \n",
    "    **Dataset :** \"News Outlet Tweet Ids\", https://doi.org/10.7910/DVN/2FIFLH\n",
    "\n",
    "    **Précision :** Application de méthodes de preprocessing, puis de méthodes de clustering pour regrouper les tweets qui mentionnent la même actualité ou catégorie d'actualité (au choix!), puis visualisation, étude en fonction du temps...  Vous devrez trouver quelle est la meilleur méthode de clustering, et celle-ci dépendra de votre approche (nombre de classes connu ? si oui, combien de classes?). \n",
    "    \n",
    "    \n",
    "Vous êtes entièrement libre sur l'ensemble du processus (choix des informations extraites, méthodes en ML, librairie, etc.). Ici seul les bases de données en elle-même sont rigoureusement imposés. Les précisions faites ici servent juste pour vous guider un peu si vous le souhaitez, mais si vous avez d'autres idées n'hésitez pas ! Ces sujets étant populaires au sein de la communauté scientifique, vous pouvez (**seulement si vous le souhaitez**) vous inspirer d'articles de la littérature, à condition de le citer dans votre rapport et de faire votre propre implémentation. \n",
    "\n",
    "#### L'objectif cependant ici n'est pas d'obtenir l'état de l'art, mais d'appliquer une méthodologie claire et rigoureuse que vous aurez construite vous-même. \n",
    "\n",
    "Les datasets étant massifs, il est fortement déconseillé de faire une base de données contenant tous les tweets hydratés (par exemple, les auteurs de la BDD n°1 soulignent qu'avec les limitations de l'API cela vous prendrait environ 32 jours). C'est à vous de voir quelle est la taille du dataset dont vous avez besoin.\n",
    "\n",
    "Pensez aussi à lire le fichier README correspondant à la base que vous avez choisi, afin de vous aider à mieux comprendre vos futurs résultats.\n",
    "\n",
    "### 2. Rédaction d'un rapport\n",
    "\n",
    "Pour ce TP, vous allez devoir fournir un rapport qui détail et justifie l'ensemble de votre méthode, et qui fournisse les résultats que vous avez obtenus. Les éléments suivants doivent y apparaitre (cela peut vous servir de plan, mais ce n'est pas rigide) :\n",
    "\n",
    "- Titre du projet, et nom de l'ensemble des membres de l'équipe (avec mail et matricule)\n",
    "    \n",
    "- **Introduction** : résumé du problème, de la méthodologie et des résultats obtenus.\n",
    "\n",
    "- **Présentation du dataset** : description, justification de la taille, du choix des features, etc. \n",
    "\n",
    "- **Preprocessing** : s'il y en a, justification des étapes de preprocessing.\n",
    "\n",
    "- **Methodologie** : description et justification de l'ensemble des choix (algorithmes, hyper-paramètres, régularisation, métriques, etc.)\n",
    "\n",
    "- **Résultats** : analyse des résultats obtenus (utilisez des figures pour illustrer), mise en relation entre les choix de design et la performance obtenue.\n",
    "\n",
    "- **Discussion** : discutez des avantages et des inconvénients de votre approche; quels sont les faiblesses, les failles ? Qu'est-ce qu'il peut être amélioré ? Vous pouvez également suggérer des futures idées d'exploration.\n",
    "\n",
    "- **Références** : si vous vous êtes inspiré d'une étude déjà faite.\n",
    "    \n",
    "Vous pouvez utiliser le template d'arXiv pour le rapport : https://fr.overleaf.com/latex/templates/style-and-template-for-preprints-arxiv-bio-arxiv/fxsnsrzpnvwc. **L'ensemble du rapport ne doit cependant pas excéder 5 pages, figures et références compris.** Les 5 pages ne sont pas obligatoires, si vous estimez que moins est suffisant et que votre rapport est effectivement complet, vous ne serez pas pénalisé.\n",
    "\n",
    "\n",
    "### 3. Rendu attendu\n",
    "\n",
    "A la fin du TP, vous soumettrez un fichier *zip* contenant les éléments suivants:\n",
    "\n",
    "- Le fichier *pdf* du rapport\n",
    "- Ce notebook que vous aurez complété. Vous pouvez également implémenter votre méthode à la suite ici, ou alors utiliser un autre fichier si vous le souhaitez. Bien que seul le rapport servira pour la notation, ayez un code commenté et clair !\n",
    "- Ne pas envoyer les fichiers de données, car trop conséquent. Avec le rapport et le code, tout sera détaillé et il sera possible de les refaire facilement.\n",
    "\n",
    "### 4. Evalutation\n",
    "\n",
    "12 points de cette partie sera basé sur la méthodologie, et 4 points sur les résultats.\n",
    "\n",
    "La notation sur la méthodologie inclus : \n",
    "\n",
    "- La pertinence de l'ensemble des étapes de l'approche\n",
    "\n",
    "- La bonne description des algorithmes choisis\n",
    "\n",
    "- La justification judicieuse des choix établis\n",
    "\n",
    "- Une analyse pertinente des résultats\n",
    "\n",
    "- La clarté et l'organisation du rapport (figures, tables) et du code.\n",
    "\n",
    "\n",
    "Pour ce qui est des résultats, il est impossible de mettre un barème fixe car ils vont dépendre du sujet que vous allez choisir. C'est un problème auquel vous serez confrontés : chaque étude étant spécifique, il peut être compliqué d'évaluer qualitativement un modèle, d'autant que vous n'avez sans doute pas connaissance de l'état de l'art. C'est pourquoi il va être important de faire plusieurs essais, et de comparer différentes méthodes. Ainsi, les résultats doivent être cohérent avec la complexité de votre implémentation : un modèle simple et naïf vous fournira des premiers résultats, que vous devrez ensuite améliorer avec des modèles plus précis et complexes.\n",
    "\n",
    "De ce fait, l'ensemble des points pour les résultats seront donnés si : \n",
    " - Vous obtenez des premiers résultats avec une méthode naïve qui témoignent de la pertinence de vos choix \n",
    " - Ces résultats sont ensuite améliorés avec une méthode plus complexe\n",
    " "
   ]
  },
  {
   "cell_type": "markdown",
   "metadata": {},
   "source": [
    "Projet d'analyse de donnees"
   ]
  },
  {
   "cell_type": "code",
   "execution_count": 10,
   "metadata": {},
   "outputs": [],
   "source": [
    "filename = \"election-day.txt\"\n",
    "database_name = \"climate.csv\"\n",
    "features = [['text'], ['user', 'screen_name']]\n",
    "nb_requests = 400\n",
    "\n",
    "hydrate_database(filename, database_name, features, nb_requests, tweet_hydratation_limit=100)\n",
    "    "
   ]
  },
  {
   "cell_type": "code",
   "execution_count": null,
   "metadata": {},
   "outputs": [],
   "source": [
    "Preparation du dataset en combinant les 4 dataset des parties en les labelisant"
   ]
  },
  {
   "cell_type": "code",
   "execution_count": 43,
   "metadata": {},
   "outputs": [
    {
     "data": {
      "text/plain": [
       "list"
      ]
     },
     "execution_count": 43,
     "metadata": {},
     "output_type": "execute_result"
    }
   ],
   "source": []
  },
  {
   "cell_type": "markdown",
   "metadata": {},
   "source": [
    "transformation en datasets"
   ]
  },
  {
   "cell_type": "code",
   "execution_count": null,
   "metadata": {},
   "outputs": [],
   "source": [
    "import csv\n",
    "from sklearn.model_selection import train_test_split\n",
    "\n",
    "def load_dataset(path):\n",
    "    \n",
    "    x = []\n",
    "    y = []\n",
    "\n",
    "    with open(path, 'r', newline='', encoding=\"latin-1\") as csvfile:\n",
    "        \n",
    "        reader = csv.reader(csvfile, delimiter=',')\n",
    "        \n",
    "        # Taking the header of the file + the index of useful columns:\n",
    "        header = next(reader)\n",
    "        ind_label = header.index('airline_sentiment')\n",
    "        ind_text = header.index('text')\n",
    "        \n",
    "        for row in reader:\n",
    "            x.append(row[ind_text])\n",
    "            \n",
    "            label = row[ind_label]\n",
    "            \n",
    "            if label == \"negative\":\n",
    "                y.append(0)\n",
    "            elif label == \"neutral\":\n",
    "                y.append(1)\n",
    "            elif label == \"positive\":\n",
    "                y.append(2)\n",
    "\n",
    "        assert len(x) == len(y)\n",
    "\n",
    "        return x, y\n",
    "\n",
    "\n",
    "# Path of the dataset\n",
    "# path = \"TP1/data/airline_tweets_database.csv\"\n",
    "path = \"climate.csv\"\n",
    "\n",
    "X, y = load_dataset(path)\n",
    "\n",
    "train_valid_X, test_X, train_valid_Y, test_Y = train_test_split(X, y, test_size=0.15, random_state=12)\n",
    "\n",
    "train_X, valid_X, train_Y, valid_Y = train_test_split(train_valid_X, train_valid_Y, test_size=0.18, random_state=12)\n",
    "\n",
    "print(\"Length of training set : \", len(train_X))\n",
    "print(\"Length of validation set : \", len(valid_X))\n",
    "print(\"Length of test set : \", len(test_X))"
   ]
  }
 ],
 "metadata": {
  "kernelspec": {
   "display_name": "Python 3",
   "language": "python",
   "name": "python3"
  },
  "language_info": {
   "codemirror_mode": {
    "name": "ipython",
    "version": 3
   },
   "file_extension": ".py",
   "mimetype": "text/x-python",
   "name": "python",
   "nbconvert_exporter": "python",
   "pygments_lexer": "ipython3",
   "version": "3.6.5"
  }
 },
 "nbformat": 4,
 "nbformat_minor": 2
}
